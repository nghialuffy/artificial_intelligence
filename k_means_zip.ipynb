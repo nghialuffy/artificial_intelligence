{
 "metadata": {
  "language_info": {
   "codemirror_mode": {
    "name": "ipython",
    "version": 3
   },
   "file_extension": ".py",
   "mimetype": "text/x-python",
   "name": "python",
   "nbconvert_exporter": "python",
   "pygments_lexer": "ipython3",
   "version": "3.6.9-final"
  },
  "orig_nbformat": 2,
  "kernelspec": {
   "name": "python3",
   "display_name": "Python 3.6.9 64-bit",
   "metadata": {
    "interpreter": {
     "hash": "31f2aee4e71d21fbe5cf8b01ff0e069b9275f58929596ceb00d14d90e3e16cd6"
    }
   }
  }
 },
 "nbformat": 4,
 "nbformat_minor": 2,
 "cells": [
  {
   "cell_type": "code",
   "execution_count": 2,
   "metadata": {},
   "outputs": [],
   "source": [
    "from __future__ import print_function \n",
    "import numpy as np\n",
    "import matplotlib.pyplot as plt\n",
    "from scipy.spatial.distance import cdist\n",
    "import matplotlib.image as mpimg\n",
    "import numpy as np"
   ]
  },
  {
   "cell_type": "code",
   "execution_count": 26,
   "metadata": {},
   "outputs": [],
   "source": [
    "def kmeans_init_centers(X, k):\n",
    "    # randomly pick k rows of X as initial centers\n",
    "    return X[np.random.choice(X.shape[0], k, replace=False)]\n",
    "\n",
    "def kmeans_assign_labels(X, centers):\n",
    "    # calculate pairwise distances btw data and centers\n",
    "    D = cdist(X, centers)\n",
    "    # print(np.argmin(D, axis = 1)) \n",
    "    # D = np.linalg.norm(X-centers)\n",
    "    # return index of the closest center\n",
    "    return np.argmin(D, axis = 1)\n",
    "\n",
    "def kmeans_update_centers(X, labels, K):\n",
    "    centers = np.zeros((K, X.shape[1]))\n",
    "    \n",
    "    for k in range(K):\n",
    "        # collect all points assigned to the k-th cluster \n",
    "        Xk = X[labels == k, :]\n",
    "        # take average\n",
    "        centers[k,:] = np.mean(Xk, axis = 0)\n",
    "    return centers\n",
    "\n",
    "def has_converged(centers, new_centers):\n",
    "    # return True if two sets of centers are the same\n",
    "    return (set([tuple(a) for a in centers]) == \n",
    "        set([tuple(a) for a in new_centers]))\n",
    "def kmeans(X, K):\n",
    "    centers = [kmeans_init_centers(X, K)]\n",
    "    labels = []\n",
    "    it = 0 \n",
    "    while True:\n",
    "        labels.append(kmeans_assign_labels(X, centers[-1]))\n",
    "        new_centers = kmeans_update_centers(X, labels[-1], K)\n",
    "        if has_converged(centers[-1], new_centers):\n",
    "            break\n",
    "        centers.append(new_centers)\n",
    "    return (centers, labels)"
   ]
  },
  {
   "cell_type": "code",
   "execution_count": 23,
   "metadata": {},
   "outputs": [],
   "source": [
    "img = mpimg.imread('naruto.jpg')\n",
    "# plt.imshow(img)\n",
    "# imgplot = plt.imshow(img)\n",
    "# plt.axis('off')\n",
    "# plt.show() "
   ]
  },
  {
   "cell_type": "code",
   "execution_count": 29,
   "metadata": {},
   "outputs": [
    {
     "output_type": "execute_result",
     "data": {
      "text/plain": [
       "(955328, 3)"
      ]
     },
     "metadata": {},
     "execution_count": 29
    }
   ],
   "source": [
    "X.shape"
   ]
  },
  {
   "cell_type": "code",
   "execution_count": 33,
   "metadata": {},
   "outputs": [],
   "source": [
    "X = img.reshape((img.shape[0]*img.shape[1], img.shape[2]))\n",
    "K = 5\n",
    "(center, label) = kmeans(X, K)\n"
   ]
  },
  {
   "cell_type": "code",
   "execution_count": 34,
   "metadata": {},
   "outputs": [
    {
     "output_type": "display_data",
     "data": {
      "text/plain": "<Figure size 432x288 with 1 Axes>",
      "image/svg+xml": "<?xml version=\"1.0\" encoding=\"utf-8\" standalone=\"no\"?>\n<!DOCTYPE svg PUBLIC \"-//W3C//DTD SVG 1.1//EN\"\n  \"http://www.w3.org/Graphics/SVG/1.1/DTD/svg11.dtd\">\n<!-- Created with matplotlib (https://matplotlib.org/) -->\n<svg height=\"231.84pt\" version=\"1.1\" viewBox=\"0 0 137.694176 231.84\" width=\"137.694176pt\" xmlns=\"http://www.w3.org/2000/svg\" xmlns:xlink=\"http://www.w3.org/1999/xlink\">\n <metadata>\n  <rdf:RDF xmlns:cc=\"http://creativecommons.org/ns#\" xmlns:dc=\"http://purl.org/dc/elements/1.1/\" xmlns:rdf=\"http://www.w3.org/1999/02/22-rdf-syntax-ns#\">\n   <cc:Work>\n    <dc:type rdf:resource=\"http://purl.org/dc/dcmitype/StillImage\"/>\n    <dc:date>2020-12-03T15:12:40.150417</dc:date>\n    <dc:format>image/svg+xml</dc:format>\n    <dc:creator>\n     <cc:Agent>\n      <dc:title>Matplotlib v3.3.3, https://matplotlib.org/</dc:title>\n     </cc:Agent>\n    </dc:creator>\n   </cc:Work>\n  </rdf:RDF>\n </metadata>\n <defs>\n  <style type=\"text/css\">*{stroke-linecap:butt;stroke-linejoin:round;}</style>\n </defs>\n <g id=\"figure_1\">\n  <g id=\"patch_1\">\n   <path d=\"M 0 231.84 \nL 137.694176 231.84 \nL 137.694176 0 \nL 0 0 \nz\n\" style=\"fill:none;\"/>\n  </g>\n  <g id=\"axes_1\">\n   <g clip-path=\"url(#pc730de0fdc)\">\n    <image height=\"218\" id=\"image0143f7d662\" transform=\"scale(1 -1)translate(0 -218)\" width=\"124\" x=\"7.2\" xlink:href=\"data:image/png;base64,\niVBORw0KGgoAAAANSUhEUgAAAHwAAADaCAYAAABkWyZNAAASXUlEQVR4nO1dP0szzRY/b7hVCAFBrNUUgTR2foG01jYPgcXGbyD4CYR8AxsJLDbWT5svYGcjWBif9r4IguTaXMi9he9ZTyYzs7MzZ3ZnducHD+hjdl33N78z59/M/PXf//z7f1AR+6czWE76cHR9bvT549mi6q+oBctJ3/ra6fPXzvUni1vXR/KOnu2F0+cvzueIDstJf+cdPGWXDT2NOawJT4iTdGvCXcxhKJg+fxX/bCEjPWRYE246f7/dPNj+ilrhQr5I+ufLkvPRWOHdpMc0+hE2xFOLNxxPuR+JDdaEh+p5c6Kq6mMY3JUJf8ouYTnpt2IOBwDjv8WEzOWkH3xoZqXwo+tzOLo+b5XKkXgd+SZq3z+dcT8aKyoTPn3+isYRs4UL8ctJv11O2/tjXnzdFrOugi3xIQviL5vU6ufLEt5uHpShWUymvsqg1Zlz2X1CnM//ZXPRd9ixO4rfbh6i8FQpZDlxFejnxL8Tvw/d6lkpHIFpRBMHTvUiQhggrkUU1f1CVLgT4RQq75TLZPoEhypVz059HsTny7Kx5IyVSTdF6OaNE6Y59R9hLABAPiB8wltqtUtkI8q8epkV3D+d1Rq7sxHepXCtDPTvRzLLSK2L+KDq4W1L2SKqELl/OvOauGFz2gB+Wp9c0ITj5nuQ2f5NPub3oBTeVtgOKB9mnpXwGNVdF1zeDSfxbISHXiUKAa6C4HjHbIQndZuBg3QX4r0mXmywyrPi61By81Xy7SbgaHzUZTZ1KV02L922PXf6/FWQTAmmxPuuvpmSyUl8EwP5/THnIRzLpVWhKzzQgQDgl3SbfH+sU1jjYZnqxS0n/SAbCTA5xNHP3gRqI5y+HHxZVMGrPINVnm29yBDmbxUo8TGBhfAqpT6cB1d5VphpkXgEqgCVjoOCGxxKrdLK7GodXMCmcJM/AFVN50Fsk5KZb/wZvXeIZh6g3PNukmQKL9UyHd5uHgp1I6H4dRmZw/E0iJemgkrtIT0z6xxe1tJD1Y2meTieFl/TpkjZS4olmyeqPaQqILvTpltkeDxbwCrPtpRMSQx5TRaFyTwsIzgE4tkJl5FmYuJonI1OHUB9c3aZ2ZUpVuxiVd1D/P8mifcSlp0sbneUrvKu8f9XebZV+MeBU+f8p1KuLsNGHVBVfK5y6Jog3VscPhxP4WRxW8zrYqaMWgL6s1AWMZiYbdlAUMXnTZtyhPfiidiu8+2k/czd1HwjTDcbCBnUYxfJ5i7GVEHt1TIcABjG4ffD8bQYBKj+UNTuApXz1hTpXgmnKkYTh2SKyqcDQdbEVzWjVQdcCGsqLes1l44qRhONL0jmnGHIJgN9sU2ZQptdIGTXiN5+3ai1WnZ0fQ77p7OCZDTjmH0bjqfFYFCZ85AUDmC2olQkGb8fzde1k87apixD2a6Nx7PFjhkXO110qzbrhi1B4pwt+74OeCWcZtHeH3PYP53tdLfIzHjozloZ6aYOWROk12rSaVr1ZHFbmHH8BxA+2SqozLYOspy7b9SmcIDtihoNx8rm7VBRFl/bhl4+le6N8KfscufBZeabxt+xomxuDol0b4TrSETiY1O0Dq4kqzJy3GiE8LbChnT6uTqcuES4B+jy6FXBTbo3L73urSxCgti7XqXW7js08554Aeiu2jmcN7yWC40vRGgzaD3dpfjDGZ8nwmuALLlS1mARXVhG0VWTLsJ1DRvHIEgKrxE2hEXjpSfI4UI6x1yeCG8ATZKeCG8INmvNopnDu5yEKYMN6S4qTwoPAFUXH7ooPREeCOraBCERHhBa1eKU5vEwkBTeMSTCO4ZaCU9mvXkkhXcMtROeVN4sksI7hkYITypvDo0pPJHeDBo16Yn0+tH4HJ5IrxeNEw6g3tIrgR+1NDGaIjU7+kcQCkck8+4fQREOkEj3jaBMuohk4vkRnMIpktr5EbTCKZLaeRC0wimS2nkQDeEAiXQOREU4QCLdFdERDpAycy6IkvDheBrMhvOxIRovXYbkuVdHlApHpPm8OqImHCCRXhUshNueHc6FRLo5olc4IpFuBi+Ey84sqQMpXCsHK+FP2SU8ZZeNHSk5HE+T0kvAdqrR58uy9LDZhObBpvBYDortOlrjtCWYgYXwmE151xy9qFOrKpimXCnZ4rHVeOxWm05tAOgY4a5qpgfeN31+mi06Qzi36Y5V+a0lXHcaIppvusmdzRHWMSq9VYTTkw9tQAm0uU8Mqm8F4U/ZpZdD5nEA6KyFiNBIxyNAEU5hmVgle8oua82j4+/zQTbAt5lf5Vklj72qZfAZFsrSzE6EH12fbxF8dH0Ow/HUe7nUN9Eq0INydeSv8syIyLratCjxToQPx9Od+BXgOxHji3Rf5rsKUPkAetXLiKffj+Zr6O3deVG5qojkLbXqK/vWBNmyQY2oeqxmb+9uR9m9vTvpZ20tgK5iGFUuvak6u8kgw4SMbHCICh7N1/Dn92br/yi5+PVovq78rGXl4agIDx1H1+dwdH0uVXuZ2abk2loxk16ARLgGOlOuwyrPtkhH5a/yDF6vBnB4pn/t1OybmPVVnhk3fkQThzdlzl1wPFtoY/jj2WLLtL9eDQDgR+2bjwvo7d1pB4gp0RiLR0M4l3dOleeSVuXC280DHF2fKx03AJASXrWVKzrCXRWOla4mgKSWfUblpL1eDYqUr23PHhLe+jkcFd1ko8P0+WvHH5DV31+vBrD5uNi5fjRfw/tj7kw2QCSE2yRx8IU2STSdPkSFy9K1+H84l/tAFIRXmWORaO552cZjx9h8OelDb++uuAe9lyxxg2qn4Fo46Ux4SN7z8WzhrWrmcl8kcDRfb5F+PFtsWSI6EETSbbNu4kBxdto+X5bwdvPgLZVqMqCadMhMQb1wcZ6mA0ocXDR0GxzcF/+/fzozmtNFwp0VPhxPd6pmnNDlqGlCo0mU5dFl04GoZoTYQYPJGhG2fzPLHK6qmnFA9YehEpqunJkMuKPrc9h8XBTK7u3dbaVg6buTmW68HtX6+bLUxu0I2bwfhdMmQwhEV3mOt5uHLZJ6e3fw5/cGjmcLo744dP7wWltYz+FloRLXnB6SU4hwceJEsjYfF8aDB1O1mKChc7oIlVfPlml7yi7ZHbfQyHZ1DlXZNDT1ZQNJvN6G8KBNui+/wBauzqEsvgaAIkZXlVbp9bJMnAnQo2cjPOb1ZSFgNF8bWRCTzhpR3bRzNWiFlyG0lmATHF2fK8udYvKF4+/baadyvqNHYNFBZdpj3ZxPpWIM18TPianYKmZdtLxBl0ddV5JwAxVXZWGC7l5iXxvi9Wqwc38xUdPbu5M6bdSc47wdTbWsTMF1OXVINJYoj67PnX+3biDTnDsCk0zT5y/o7d1ZO29BE14Gjhevw/FsUWwUNBxPYf90Bvuns6J24LrNia51SeexH571pD+jYaxM3QCBm3TTtiZfxRMk9PNlqXz56AFb57YVWbPNx4WR00YLKEjuKs+KASp+NmiFm86TonfriuF4uqVe+uJFYp+yS1hO+tYeNVX55uMCDs96SgXLIEuwyCwPDgy2bbuaBlduXXxZaCZlS4YwD77KMwBLwpeTPhyeYS7d7h5ljhr1hYImfDieNp5eNVGajbp95hAo2WjeEUHP4QA/DRZ1VcdkCqeNkCqiTOZw3ztGiGvBZQ0SURBeJ2TzX1k/GUc6lBuqbpigTXoToJEBJV8V5qjIbjLtqyL782UZtpcOUO+LoxUr9B8+X5awyrMiBqeQkX08W5Q+M1cIuZz0ldk6EU/ZJfT27sJXeJ2pVeonILnLSV/aZ0ZRdW7+jr3dtfb9vOXdL0/ZZVFHD34OBwivEQJha33+/N6UriA1vQ/A9lIkdCzRrIv9b8ErPDRweNqbjwtY5XzT1Wi+BvhnAKH1wL3qxA6bKAjXhWX4M+pguVoESqrMpMugC9lk4DLrMvwQvdtOFbzTBvBdFxdfJn5/sriF49micKqqki2mZHt7dzCar4t52lTNNp2kLvV88VpxsyAVolD4+2O+RSSdo2jBAH9Gvy8DVtx+iEUNLHY+i3VwmZJfrwawyvU9aSKoKa4KmcP2PQj0+8KwrC3Ds07qOs5Kpwwbr/7o+lx5z+WkX2y/JetGoZDt0CSDS1+56h5omXTYfFy4KRxbk08W/o+/oCVQ3RYaFL29O2n3iO4ahC6hQkuieP30+Qv+QHXVmvoIXGCfw32FUDbKpeGKCNVuimW7KK7yDJ6yy+Izss+WPSvtVrHZmssWbzcPboSLDXI+42VV2RLnctO5EzNhsmRKlXlfvJaizGS7mnRbZ2/6/OVu0hHo/DTVn04rRUjAaL6G5T+N/6r4mTPNSR2mKsmVKmZdFlub4v0x5820oep8HWlFW4lwLsXfKXrn2BWqahVSEa2yJGVQdaHKSDf9nAymuXMZBgf3fAoHgJ0ECDcoSctJX1vMWOUZHJ4tQAyvqrYYmzRh4IDCfdV8wYXs7yVOl/yLCT9fll5JF+NxgF216hoOTRQre36T62SLBWUWRkaczsFUXWODKIonFKZqo8A2H1PzrBqwJr/bhEwVeSqzzkU2QCSpVQqdN66bqzkiCFvL5RJ6cS+niiK1SiEzyzIP3FcdXWcpTFKbVfCtbN44PTqTDiCfxylkZOvKmrLPm6hZRrzJnqk6E23yGRdEp3CA7XPHKFQeuG4RICZibCyCTO06T/3HPOtV64tsgEgVXuXkQXHViGwViRjTA1Sbr+l1uk1yTXB41vNKuJPTRitlTcKUbPFr+nNRqVWcPDo4XAshPskGcCQcU6n0FCMu8m1OCKaQxejUdFfJnbcJzmEZPZyOcyen98dcOnio8sqqWgC7G+L7anv2mWzihHO1jK6T5i6cTJ+/dkwrfbG6lzwcTwvSkWjZltVcA2D/dBbFnjNOTpvKfHMSv/77F2w+LnbIFRfM6YAhmeqMMd31ZcqVrR1f5ZnXnLoLgt6YD+87mq93SK9COIC+1003AHSEq/wMlxKmbwSvcNpIL24fDVAtoya2HwPAVgM/wO7AsFlcCODf27ZF8AoH+DbrCCQdTamtp23a3aqbSnRoPeE+sX8623qBSLqNyqsCCa96BEWohEdRLXt/zLca/6jiET52c6I7N9WBqltx2WzdFQXhALuO1frvX1vzbtnGtDawJbqOHSJt92mLwqQjZCcBiE0DHObdZeC4hGSDg3up9XL9LEU0CgeQE0HnSldlmSzm1+HP7w1L/F2mXluyASIjXLWVBZIuOwHQBK5E02ewhamJHhzcO3XvOJt0jMXr6kfXHfBCzXuVZIwrODxyGm6q/j4ku5EzT0T4jMNFiGEahbgbggyczh1X+IWZRBWhLmacgqVaxlkSNfGMdQe0jeZr7VzORXaVDXVMgCTLyN58XLCQDcA0h3OWRAG+Q67137+0g0m3UgMX9ItVMU4T7iNXrpqbOQsxLHM497oymclGUy3uHlymMo7NcxChZc9sVroEPYfrHBR6OlCZ2lxJD41oFwR/UJ2Jik1QtpRHhpDLnLZgV7iPMK1u0kNuYHBFVKlVuqOgC+pYwxUqoiIcgE/tvld4hAI8qB4RHeEILrV3DVHl0ilOFrfWJcKugUY00SqcgsvMdwGtIByRiC9HdNUyE6h2Ek5gVDgeRtM08aLKfa/GjA1RbdtlAq6qUlvB6qUPx9PaDoBNqI7Ds54b4WI+/fNlWdv5YglmODzrweDgHgYH93w7MSLxvjfmM3mOLjtqmD3UNYiksCxy0KSKicPMFpY1rW6A5LC9Xg1KSW+VwrtMuKnSo82lu6CNOfjRfF34L7q+9dYQbtqcf3jWa3zq8Q1daNwawss6UjE80XmwbQCqXNXu3RrCdTsUy4imc17bgL350q1BG3ieWnB41oPNx4VS0XWeJGQKzkE4mq+lpr11hL9eDQpF6+Zqk5WmnD3tZUCyBwf3sPm4YPndo/l6JxvamrAMF0RUcch0YRyu9aozmaOLo2Xbg+GgLcsu0vu2hnAb6AgXd4wqI51rsZ9J8sQFrTPpHBDN6ftjXmpi909nMDi4r3UasEGnFS4rtpQpTKVi1W6RNtOB7F5cCHs4eobMUy8zpyoVy1aqvD/mhRNWxQP32VPQacJFmJpjJFKEKtkxHE/hZHFbDJYy8kfztbdjPTtt0gF+TLSts6TaNNAET9nl96nECrNf5V6mSAr/B7ae8ftjvqXYKnu7nSxut8w+JosQPlSeFP73Lzg867Hk2FHtHMrEgcOd++884funM9aX6vsoTld0nvCuIc3hHUMivGNIhHcMifCOIRHeMSTCO4b/AyA7Exr5+EjeAAAAAElFTkSuQmCC\" y=\"-6.64\"/>\n   </g>\n  </g>\n </g>\n <defs>\n  <clipPath id=\"pc730de0fdc\">\n   <rect height=\"217.44\" width=\"123.294176\" x=\"7.2\" y=\"7.2\"/>\n  </clipPath>\n </defs>\n</svg>\n",
      "image/png": "[encoded data removed]"
     },
     "metadata": {
      "needs_background": "light"
     }
    }
   ],
   "source": [
    "img_temp = np.zeros_like(X)\n",
    "center = np.asarray(center[-1])\n",
    "label = np.asarray(label[-1])\n",
    "for k in range(K):\n",
    "    img_temp[label == k] = center[k]\n",
    "img_final = img_temp.reshape((img.shape[0], img.shape[1], img.shape[2]))\n",
    "plt.imshow(img_final, interpolation='nearest')\n",
    "plt.axis('off')\n",
    "plt.show()"
   ]
  },
  {
   "cell_type": "code",
   "execution_count": null,
   "metadata": {},
   "outputs": [],
   "source": []
  }
 ]
}