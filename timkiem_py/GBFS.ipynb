{
 "metadata": {
  "language_info": {
   "codemirror_mode": {
    "name": "ipython",
    "version": 3
   },
   "file_extension": ".py",
   "mimetype": "text/x-python",
   "name": "python",
   "nbconvert_exporter": "python",
   "pygments_lexer": "ipython3",
   "version": "3.6.9-final"
  },
  "orig_nbformat": 2,
  "kernelspec": {
   "name": "python3",
   "display_name": "Python 3"
  }
 },
 "nbformat": 4,
 "nbformat_minor": 2,
 "cells": [
  {
   "cell_type": "code",
   "execution_count": 1,
   "metadata": {},
   "outputs": [],
   "source": [
    "from graph2 import Node, Graph\n",
    "import heapq\n",
    "import pandas as pd"
   ]
  },
  {
   "cell_type": "code",
   "execution_count": 2,
   "metadata": {},
   "outputs": [],
   "source": [
    "def find_by_label(array_of_node, node):\n",
    "    for idx, n in enumerate(array_of_node):\n",
    "        if n == node:\n",
    "            return idx\n",
    "    return -1\n",
    "def update_frontier(frontier, new_node):\n",
    "    # Update trạng thái của frontier\n",
    "    index = find_by_label(frontier, new_node)\n",
    "    if index >= 0:\n",
    "        if frontier[index] > new_node:\n",
    "            frontier[index] = new_node\n",
    "def greedy_best_first_search(initial_state, goalTest):\n",
    "    frontier = list()\n",
    "    explored = list()\n",
    "    # using heapify to convert list into heap\n",
    "    heapq.heapify(frontier)\n",
    "    heapq.heappush(frontier, initial_state)\n",
    "    df = pd.DataFrame(columns=[\"Frontier\", \"Explored\"])\n",
    "    # dont set max width of column\n",
    "    # pd.set_option(\"max_colwidth\", None)\n",
    "    while len(frontier) > 0:\n",
    "        to_append = [\n",
    "            list(map(lambda x: x.get_label(), frontier)),\n",
    "            list(map(lambda x: x.get_label(), explored))\n",
    "        ]\n",
    "        series = pd.Series(to_append, index=df.columns)\n",
    "        df = df.append(series, ignore_index=True)\n",
    "        # remove smallest element in frontier and return smallest element\n",
    "        state = heapq.heappop(frontier)\n",
    "        explored.append(state)\n",
    "        if state == goalTest:\n",
    "            print(df)\n",
    "            return True\n",
    "        for neighbor in state.neighbors():\n",
    "            if neighbor.get_label() not in list(set([node.get_label() for node in frontier + explored])):\n",
    "                heapq.heappush(frontier, neighbor)\n",
    "            elif find_by_label(array_of_node=frontier, node=neighbor) >= 0:\n",
    "                update_frontier(frontier=frontier, new_node=neighbor)\n",
    "    return False"
   ]
  },
  {
   "cell_type": "code",
   "execution_count": 3,
   "metadata": {},
   "outputs": [
    {
     "output_type": "stream",
     "name": "stdout",
     "text": [
      "             Frontier   Explored\n0                 [A]         []\n1           [B, C, D]        [A]\n2        [F, E, C, D]     [A, B]\n3  [L, K, C, D, E, M]  [A, B, F]\n"
     ]
    }
   ],
   "source": [
    "if __name__ == \"__main__\":\n",
    "    graph = Graph()\n",
    "    graph.add_node_from([\"A\", \"B\", \"C\", \"D\", \"E\", \"F\", \"G\", \"H\", \"I\", \"J\", \"K\", \"L\", \"M\", \"N\", \"O\"])\n",
    "    graph.add_edges_from(\n",
    "        [\n",
    "            (\"A\", \"B\"),\n",
    "            (\"A\", \"C\"),\n",
    "            (\"A\", \"D\"),\n",
    "            (\"B\", \"E\"),\n",
    "            (\"B\", \"F\"),\n",
    "            (\"C\", \"G\"),\n",
    "            (\"C\", \"H\"),\n",
    "            (\"D\", \"I\"),\n",
    "            (\"D\", \"J\"),\n",
    "            (\"F\", \"K\"),\n",
    "            (\"F\", \"L\"),\n",
    "            (\"F\", \"M\"),\n",
    "            (\"H\", \"N\"),\n",
    "            (\"H\", \"O\"),\n",
    "            ],\n",
    "        )\n",
    "    # initial setup\n",
    "    graph.nodes[0].goal_cost = 6  # goal_cost của node A = 6\n",
    "    graph.nodes[1].goal_cost = 3  # goal_cost của node B = 3\n",
    "    graph.nodes[2].goal_cost = 4  # goal_cost của node C = 4\n",
    "    graph.nodes[3].goal_cost = 5  # goal_cost của node D = 5\n",
    "    graph.nodes[4].goal_cost = 3  # goal_cost của node E = 3\n",
    "    graph.nodes[5].goal_cost = 1  # goal_cost của node F = 1\n",
    "    graph.nodes[6].goal_cost = 6  # goal_cost của node G = 6\n",
    "    graph.nodes[7].goal_cost = 2  # goal_cost của node H = 2\n",
    "    graph.nodes[8].goal_cost = 5  # goal_cost của node I = 5\n",
    "    graph.nodes[9].goal_cost = 4  # goal_cost của node J = 4\n",
    "    graph.nodes[10].goal_cost = 2  # goal_cost của node K = 2\n",
    "    graph.nodes[11].goal_cost = 0  # goal_cost của node L = 0\n",
    "    graph.nodes[12].goal_cost = 4  # goal_cost của node M = 4\n",
    "    graph.nodes[13].goal_cost = 0  # goal_cost của node N = 0\n",
    "    graph.nodes[14].goal_cost = 4  # goal_cost của node O = 4\n",
    "    graph.set_compare_mode(Node.GOAL_COST)\n",
    "    result = greedy_best_first_search(initial_state=graph.nodes[0], goalTest=graph.nodes[11])"
   ]
  },
  {
   "cell_type": "code",
   "execution_count": null,
   "metadata": {},
   "outputs": [],
   "source": []
  }
 ]
}