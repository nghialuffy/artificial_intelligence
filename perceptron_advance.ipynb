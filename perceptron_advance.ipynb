{
 "metadata": {
  "language_info": {
   "codemirror_mode": {
    "name": "ipython",
    "version": 3
   },
   "file_extension": ".py",
   "mimetype": "text/x-python",
   "name": "python",
   "nbconvert_exporter": "python",
   "pygments_lexer": "ipython3",
   "version": "3.6.9-final"
  },
  "orig_nbformat": 2,
  "kernelspec": {
   "name": "python3",
   "display_name": "Python 3"
  }
 },
 "nbformat": 4,
 "nbformat_minor": 2,
 "cells": [
  {
   "cell_type": "code",
   "execution_count": 1,
   "metadata": {},
   "outputs": [],
   "source": [
    "# generate data\n",
    "# list of points \n",
    "import numpy as np \n",
    "import matplotlib.pyplot as plt\n",
    "from scipy.spatial.distance import cdist\n",
    "np.random.seed(2)\n",
    "\n",
    "means = [[2, 2], [4, 2]]\n",
    "cov = [[.3, .2], [.2, .3]]\n",
    "N = 10\n",
    "X0 = np.random.multivariate_normal(means[0], cov, N).T\n",
    "X1 = np.random.multivariate_normal(means[1], cov, N).T\n",
    "\n",
    "X = np.concatenate((X0, X1), axis = 1)\n",
    "y = np.concatenate((np.ones((1, N)), -1*np.ones((1, N))), axis = 1)\n",
    "# Xbar \n",
    "X = np.concatenate((np.ones((1, 2*N)), X), axis = 0)"
   ]
  },
  {
   "cell_type": "code",
   "execution_count": 2,
   "metadata": {},
   "outputs": [],
   "source": [
    "def h(w, x):    \n",
    "    return np.sign(np.dot(w.T, x))\n",
    "\n",
    "def has_converged(X, y, w):\n",
    "    \n",
    "    return np.array_equal(h(w, X), y) #True if h(w, X) == y else False\n",
    "\n",
    "def perceptron(X, y, w_init):\n",
    "    w = [w_init]\n",
    "    N = X.shape[1]\n",
    "    mis_points = []\n",
    "    while True:\n",
    "        # mix data \n",
    "        mix_id = np.random.permutation(N)\n",
    "        for i in range(N):\n",
    "            xi = X[:, mix_id[i]].reshape(3, 1)\n",
    "            yi = y[0, mix_id[i]]\n",
    "            if h(w[-1], xi)[0] != yi:\n",
    "                mis_points.append(mix_id[i])\n",
    "                w_new = w[-1] + yi*xi \n",
    "\n",
    "                w.append(w_new)\n",
    "                \n",
    "        if has_converged(X, y, w[-1]):\n",
    "            break\n",
    "    return (w, mis_points)\n"
   ]
  },
  {
   "cell_type": "code",
   "execution_count": 6,
   "metadata": {},
   "outputs": [
    {
     "output_type": "stream",
     "name": "stdout",
     "text": [
      "[14, 4, 2, 10, 8, 16, 0, 1, 18, 3, 14, 9]\n"
     ]
    }
   ],
   "source": [
    "d = X.shape[0]\n",
    "w_init = np.random.randn(d, 1)\n",
    "(w, m) = perceptron(X, y, w_init)\n",
    "print(m)\n",
    "# print(w)\n",
    "# print(len(w))\n",
    "\n",
    "def draw_line(w):\n",
    "    w0, w1, w2 = w[0], w[1], w[2]\n",
    "    if w2 != 0:\n",
    "        x11, x12 = -100, 100\n",
    "        return plt.plot([x11, x12], [-(w1*x11 + w0)/w2, -(w1*x12 + w0)/w2], 'k')\n",
    "    else:\n",
    "        x10 = -w0/w1\n",
    "        return plt.plot([x10, x10], [-100, 100], 'k')"
   ]
  },
  {
   "cell_type": "code",
   "execution_count": 7,
   "metadata": {},
   "outputs": [],
   "source": [
    "import matplotlib.animation as animation\n",
    "from matplotlib.animation import FuncAnimation \n",
    "def viz_alg_1d_2(w):\n",
    "    it = len(w)    \n",
    "    fig, ax = plt.subplots(figsize=(5, 5))  \n",
    "    \n",
    "    def update(i):\n",
    "        ani = plt.cla()\n",
    "        #points\n",
    "        ani = plt.plot(X0[0, :], X0[1, :], 'b^', markersize = 8, alpha = .8)\n",
    "        ani = plt.plot(X1[0, :], X1[1, :], 'ro', markersize = 8, alpha = .8)\n",
    "        ani = plt.axis([0 , 6, -2, 4])\n",
    "        i2 =  i if i < it else it-1\n",
    "        ani = draw_line(w[i2])\n",
    "        if i < it-1:\n",
    "            # draw one  misclassified point\n",
    "            circle = plt.Circle((X[1, m[i]], X[2, m[i]]), 0.15, color='k', fill = False)\n",
    "            ax.add_artist(circle)\n",
    "        # hide axis \n",
    "        cur_axes = plt.gca()\n",
    "        cur_axes.axes.get_xaxis().set_ticks([])\n",
    "        cur_axes.axes.get_yaxis().set_ticks([])\n",
    "\n",
    "        label = 'PLA: iter %d/%d' %(i2, it-1)\n",
    "        ax.set_xlabel(label)\n",
    "        return ani, ax \n",
    "        \n",
    "    anim = FuncAnimation(fig, update, frames=np.arange(0, it + 2), interval=1000)\n",
    "    # save \n",
    "    anim.save('pla_vis.gif', dpi = 100, writer = 'imagemagick')\n",
    "    plt.show()"
   ]
  },
  {
   "cell_type": "code",
   "execution_count": 8,
   "metadata": {},
   "outputs": [
    {
     "output_type": "display_data",
     "data": {
      "text/plain": "<Figure size 360x360 with 1 Axes>",
      "image/svg+xml": "<?xml version=\"1.0\" encoding=\"utf-8\" standalone=\"no\"?>\n<!DOCTYPE svg PUBLIC \"-//W3C//DTD SVG 1.1//EN\"\n  \"http://www.w3.org/Graphics/SVG/1.1/DTD/svg11.dtd\">\n<!-- Created with matplotlib (https://matplotlib.org/) -->\n<svg height=\"299.878125pt\" version=\"1.1\" viewBox=\"0 0 296.9 299.878125\" width=\"296.9pt\" xmlns=\"http://www.w3.org/2000/svg\" xmlns:xlink=\"http://www.w3.org/1999/xlink\">\n <metadata>\n  <rdf:RDF xmlns:cc=\"http://creativecommons.org/ns#\" xmlns:dc=\"http://purl.org/dc/elements/1.1/\" xmlns:rdf=\"http://www.w3.org/1999/02/22-rdf-syntax-ns#\">\n   <cc:Work>\n    <dc:type rdf:resource=\"http://purl.org/dc/dcmitype/StillImage\"/>\n    <dc:date>2020-12-02T13:59:29.363976</dc:date>\n    <dc:format>image/svg+xml</dc:format>\n    <dc:creator>\n     <cc:Agent>\n      <dc:title>Matplotlib v3.3.3, https://matplotlib.org/</dc:title>\n     </cc:Agent>\n    </dc:creator>\n   </cc:Work>\n  </rdf:RDF>\n </metadata>\n <defs>\n  <style type=\"text/css\">*{stroke-linecap:butt;stroke-linejoin:round;}</style>\n </defs>\n <g id=\"figure_1\">\n  <g id=\"patch_1\">\n   <path d=\"M 0 299.878125 \nL 296.9 299.878125 \nL 296.9 0 \nL 0 0 \nz\n\" style=\"fill:none;\"/>\n  </g>\n  <g id=\"axes_1\">\n   <g id=\"patch_2\">\n    <path d=\"M 10.7 279 \nL 289.7 279 \nL 289.7 7.2 \nL 10.7 7.2 \nz\n\" style=\"fill:#ffffff;\"/>\n   </g>\n   <g id=\"matplotlib.axis_1\">\n    <g id=\"text_1\">\n     <!-- PLA: iter 12/12 -->\n     <g transform=\"translate(113.200781 290.598437)scale(0.1 -0.1)\">\n      <defs>\n       <path d=\"M 19.671875 64.796875 \nL 19.671875 37.40625 \nL 32.078125 37.40625 \nQ 38.96875 37.40625 42.71875 40.96875 \nQ 46.484375 44.53125 46.484375 51.125 \nQ 46.484375 57.671875 42.71875 61.234375 \nQ 38.96875 64.796875 32.078125 64.796875 \nz\nM 9.8125 72.90625 \nL 32.078125 72.90625 \nQ 44.34375 72.90625 50.609375 67.359375 \nQ 56.890625 61.8125 56.890625 51.125 \nQ 56.890625 40.328125 50.609375 34.8125 \nQ 44.34375 29.296875 32.078125 29.296875 \nL 19.671875 29.296875 \nL 19.671875 0 \nL 9.8125 0 \nz\n\" id=\"DejaVuSans-80\"/>\n       <path d=\"M 9.8125 72.90625 \nL 19.671875 72.90625 \nL 19.671875 8.296875 \nL 55.171875 8.296875 \nL 55.171875 0 \nL 9.8125 0 \nz\n\" id=\"DejaVuSans-76\"/>\n       <path d=\"M 34.1875 63.1875 \nL 20.796875 26.90625 \nL 47.609375 26.90625 \nz\nM 28.609375 72.90625 \nL 39.796875 72.90625 \nL 67.578125 0 \nL 57.328125 0 \nL 50.6875 18.703125 \nL 17.828125 18.703125 \nL 11.1875 0 \nL 0.78125 0 \nz\n\" id=\"DejaVuSans-65\"/>\n       <path d=\"M 11.71875 12.40625 \nL 22.015625 12.40625 \nL 22.015625 0 \nL 11.71875 0 \nz\nM 11.71875 51.703125 \nL 22.015625 51.703125 \nL 22.015625 39.3125 \nL 11.71875 39.3125 \nz\n\" id=\"DejaVuSans-58\"/>\n       <path id=\"DejaVuSans-32\"/>\n       <path d=\"M 9.421875 54.6875 \nL 18.40625 54.6875 \nL 18.40625 0 \nL 9.421875 0 \nz\nM 9.421875 75.984375 \nL 18.40625 75.984375 \nL 18.40625 64.59375 \nL 9.421875 64.59375 \nz\n\" id=\"DejaVuSans-105\"/>\n       <path d=\"M 18.3125 70.21875 \nL 18.3125 54.6875 \nL 36.8125 54.6875 \nL 36.8125 47.703125 \nL 18.3125 47.703125 \nL 18.3125 18.015625 \nQ 18.3125 11.328125 20.140625 9.421875 \nQ 21.96875 7.515625 27.59375 7.515625 \nL 36.8125 7.515625 \nL 36.8125 0 \nL 27.59375 0 \nQ 17.1875 0 13.234375 3.875 \nQ 9.28125 7.765625 9.28125 18.015625 \nL 9.28125 47.703125 \nL 2.6875 47.703125 \nL 2.6875 54.6875 \nL 9.28125 54.6875 \nL 9.28125 70.21875 \nz\n\" id=\"DejaVuSans-116\"/>\n       <path d=\"M 56.203125 29.59375 \nL 56.203125 25.203125 \nL 14.890625 25.203125 \nQ 15.484375 15.921875 20.484375 11.0625 \nQ 25.484375 6.203125 34.421875 6.203125 \nQ 39.59375 6.203125 44.453125 7.46875 \nQ 49.3125 8.734375 54.109375 11.28125 \nL 54.109375 2.78125 \nQ 49.265625 0.734375 44.1875 -0.34375 \nQ 39.109375 -1.421875 33.890625 -1.421875 \nQ 20.796875 -1.421875 13.15625 6.1875 \nQ 5.515625 13.8125 5.515625 26.8125 \nQ 5.515625 40.234375 12.765625 48.109375 \nQ 20.015625 56 32.328125 56 \nQ 43.359375 56 49.78125 48.890625 \nQ 56.203125 41.796875 56.203125 29.59375 \nz\nM 47.21875 32.234375 \nQ 47.125 39.59375 43.09375 43.984375 \nQ 39.0625 48.390625 32.421875 48.390625 \nQ 24.90625 48.390625 20.390625 44.140625 \nQ 15.875 39.890625 15.1875 32.171875 \nz\n\" id=\"DejaVuSans-101\"/>\n       <path d=\"M 41.109375 46.296875 \nQ 39.59375 47.171875 37.8125 47.578125 \nQ 36.03125 48 33.890625 48 \nQ 26.265625 48 22.1875 43.046875 \nQ 18.109375 38.09375 18.109375 28.8125 \nL 18.109375 0 \nL 9.078125 0 \nL 9.078125 54.6875 \nL 18.109375 54.6875 \nL 18.109375 46.1875 \nQ 20.953125 51.171875 25.484375 53.578125 \nQ 30.03125 56 36.53125 56 \nQ 37.453125 56 38.578125 55.875 \nQ 39.703125 55.765625 41.0625 55.515625 \nz\n\" id=\"DejaVuSans-114\"/>\n       <path d=\"M 12.40625 8.296875 \nL 28.515625 8.296875 \nL 28.515625 63.921875 \nL 10.984375 60.40625 \nL 10.984375 69.390625 \nL 28.421875 72.90625 \nL 38.28125 72.90625 \nL 38.28125 8.296875 \nL 54.390625 8.296875 \nL 54.390625 0 \nL 12.40625 0 \nz\n\" id=\"DejaVuSans-49\"/>\n       <path d=\"M 19.1875 8.296875 \nL 53.609375 8.296875 \nL 53.609375 0 \nL 7.328125 0 \nL 7.328125 8.296875 \nQ 12.9375 14.109375 22.625 23.890625 \nQ 32.328125 33.6875 34.8125 36.53125 \nQ 39.546875 41.84375 41.421875 45.53125 \nQ 43.3125 49.21875 43.3125 52.78125 \nQ 43.3125 58.59375 39.234375 62.25 \nQ 35.15625 65.921875 28.609375 65.921875 \nQ 23.96875 65.921875 18.8125 64.3125 \nQ 13.671875 62.703125 7.8125 59.421875 \nL 7.8125 69.390625 \nQ 13.765625 71.78125 18.9375 73 \nQ 24.125 74.21875 28.421875 74.21875 \nQ 39.75 74.21875 46.484375 68.546875 \nQ 53.21875 62.890625 53.21875 53.421875 \nQ 53.21875 48.921875 51.53125 44.890625 \nQ 49.859375 40.875 45.40625 35.40625 \nQ 44.1875 33.984375 37.640625 27.21875 \nQ 31.109375 20.453125 19.1875 8.296875 \nz\n\" id=\"DejaVuSans-50\"/>\n       <path d=\"M 25.390625 72.90625 \nL 33.6875 72.90625 \nL 8.296875 -9.28125 \nL 0 -9.28125 \nz\n\" id=\"DejaVuSans-47\"/>\n      </defs>\n      <use xlink:href=\"#DejaVuSans-80\"/>\n      <use x=\"60.302734\" xlink:href=\"#DejaVuSans-76\"/>\n      <use x=\"118.265625\" xlink:href=\"#DejaVuSans-65\"/>\n      <use x=\"184.923828\" xlink:href=\"#DejaVuSans-58\"/>\n      <use x=\"218.615234\" xlink:href=\"#DejaVuSans-32\"/>\n      <use x=\"250.402344\" xlink:href=\"#DejaVuSans-105\"/>\n      <use x=\"278.185547\" xlink:href=\"#DejaVuSans-116\"/>\n      <use x=\"317.394531\" xlink:href=\"#DejaVuSans-101\"/>\n      <use x=\"378.917969\" xlink:href=\"#DejaVuSans-114\"/>\n      <use x=\"420.03125\" xlink:href=\"#DejaVuSans-32\"/>\n      <use x=\"451.818359\" xlink:href=\"#DejaVuSans-49\"/>\n      <use x=\"515.441406\" xlink:href=\"#DejaVuSans-50\"/>\n      <use x=\"579.064453\" xlink:href=\"#DejaVuSans-47\"/>\n      <use x=\"612.755859\" xlink:href=\"#DejaVuSans-49\"/>\n      <use x=\"676.378906\" xlink:href=\"#DejaVuSans-50\"/>\n     </g>\n    </g>\n   </g>\n   <g id=\"matplotlib.axis_2\"/>\n   <g id=\"line2d_1\">\n    <defs>\n     <path d=\"M 0 -4 \nL -4 4 \nL 4 4 \nz\n\" id=\"m42af6aa885\" style=\"stroke:#0000ff;stroke-linejoin:miter;stroke-opacity:0.8;\"/>\n    </defs>\n    <g clip-path=\"url(#pd980f4d262)\">\n     <use style=\"fill:#0000ff;fill-opacity:0.8;stroke:#0000ff;stroke-linejoin:miter;stroke-opacity:0.8;\" x=\"113.974666\" xlink:href=\"#m42af6aa885\" y=\"88.930383\"/>\n     <use style=\"fill:#0000ff;fill-opacity:0.8;stroke:#0000ff;stroke-linejoin:miter;stroke-opacity:0.8;\" x=\"136.311489\" xlink:href=\"#m42af6aa885\" y=\"32.800219\"/>\n     <use style=\"fill:#0000ff;fill-opacity:0.8;stroke:#0000ff;stroke-linejoin:miter;stroke-opacity:0.8;\" x=\"154.149627\" xlink:href=\"#m42af6aa885\" y=\"65.70507\"/>\n     <use style=\"fill:#0000ff;fill-opacity:0.8;stroke:#0000ff;stroke-linejoin:miter;stroke-opacity:0.8;\" x=\"104.956159\" xlink:href=\"#m42af6aa885\" y=\"121.80427\"/>\n     <use style=\"fill:#0000ff;fill-opacity:0.8;stroke:#0000ff;stroke-linejoin:miter;stroke-opacity:0.8;\" x=\"137.748992\" xlink:href=\"#m42af6aa885\" y=\"83.045073\"/>\n     <use style=\"fill:#0000ff;fill-opacity:0.8;stroke:#0000ff;stroke-linejoin:miter;stroke-opacity:0.8;\" x=\"67.044965\" xlink:href=\"#m42af6aa885\" y=\"87.07177\"/>\n     <use style=\"fill:#0000ff;fill-opacity:0.8;stroke:#0000ff;stroke-linejoin:miter;stroke-opacity:0.8;\" x=\"114.358081\" xlink:href=\"#m42af6aa885\" y=\"110.064768\"/>\n     <use style=\"fill:#0000ff;fill-opacity:0.8;stroke:#0000ff;stroke-linejoin:miter;stroke-opacity:0.8;\" x=\"97.365593\" xlink:href=\"#m42af6aa885\" y=\"116.048404\"/>\n     <use style=\"fill:#0000ff;fill-opacity:0.8;stroke:#0000ff;stroke-linejoin:miter;stroke-opacity:0.8;\" x=\"91.927455\" xlink:href=\"#m42af6aa885\" y=\"85.464651\"/>\n     <use style=\"fill:#0000ff;fill-opacity:0.8;stroke:#0000ff;stroke-linejoin:miter;stroke-opacity:0.8;\" x=\"120.994158\" xlink:href=\"#m42af6aa885\" y=\"80.769303\"/>\n    </g>\n   </g>\n   <g id=\"line2d_2\">\n    <defs>\n     <path d=\"M 0 4 \nC 1.060812 4 2.078319 3.578535 2.828427 2.828427 \nC 3.578535 2.078319 4 1.060812 4 0 \nC 4 -1.060812 3.578535 -2.078319 2.828427 -2.828427 \nC 2.078319 -3.578535 1.060812 -4 0 -4 \nC -1.060812 -4 -2.078319 -3.578535 -2.828427 -2.828427 \nC -3.578535 -2.078319 -4 -1.060812 -4 0 \nC -4 1.060812 -3.578535 2.078319 -2.828427 2.828427 \nC -2.078319 3.578535 -1.060812 4 0 4 \nz\n\" id=\"m0f28ebaadc\" style=\"stroke:#ff0000;stroke-opacity:0.8;\"/>\n    </defs>\n    <g clip-path=\"url(#pd980f4d262)\">\n     <use style=\"fill:#ff0000;fill-opacity:0.8;stroke:#ff0000;stroke-opacity:0.8;\" x=\"218.742567\" xlink:href=\"#m0f28ebaadc\" y=\"79.495439\"/>\n     <use style=\"fill:#ff0000;fill-opacity:0.8;stroke:#ff0000;stroke-opacity:0.8;\" x=\"201.015781\" xlink:href=\"#m0f28ebaadc\" y=\"113.627047\"/>\n     <use style=\"fill:#ff0000;fill-opacity:0.8;stroke:#ff0000;stroke-opacity:0.8;\" x=\"207.033385\" xlink:href=\"#m0f28ebaadc\" y=\"92.518082\"/>\n     <use style=\"fill:#ff0000;fill-opacity:0.8;stroke:#ff0000;stroke-opacity:0.8;\" x=\"223.873934\" xlink:href=\"#m0f28ebaadc\" y=\"95.3869\"/>\n     <use style=\"fill:#ff0000;fill-opacity:0.8;stroke:#ff0000;stroke-opacity:0.8;\" x=\"231.3393\" xlink:href=\"#m0f28ebaadc\" y=\"67.164242\"/>\n     <use style=\"fill:#ff0000;fill-opacity:0.8;stroke:#ff0000;stroke-opacity:0.8;\" x=\"179.754456\" xlink:href=\"#m0f28ebaadc\" y=\"69.10348\"/>\n     <use style=\"fill:#ff0000;fill-opacity:0.8;stroke:#ff0000;stroke-opacity:0.8;\" x=\"252.136248\" xlink:href=\"#m0f28ebaadc\" y=\"41.510664\"/>\n     <use style=\"fill:#ff0000;fill-opacity:0.8;stroke:#ff0000;stroke-opacity:0.8;\" x=\"173.950078\" xlink:href=\"#m0f28ebaadc\" y=\"92.41831\"/>\n     <use style=\"fill:#ff0000;fill-opacity:0.8;stroke:#ff0000;stroke-opacity:0.8;\" x=\"193.809714\" xlink:href=\"#m0f28ebaadc\" y=\"117.718434\"/>\n     <use style=\"fill:#ff0000;fill-opacity:0.8;stroke:#ff0000;stroke-opacity:0.8;\" x=\"191.060545\" xlink:href=\"#m0f28ebaadc\" y=\"92.306521\"/>\n    </g>\n   </g>\n   <g id=\"line2d_3\">\n    <path clip-path=\"url(#pd980f4d262)\" d=\"M -1 240.669558 \nL 226.461493 -1 \n\" style=\"fill:none;stroke:#000000;stroke-linecap:square;stroke-width:1.5;\"/>\n   </g>\n   <g id=\"patch_3\">\n    <path d=\"M 10.7 279 \nL 10.7 7.2 \n\" style=\"fill:none;stroke:#000000;stroke-linecap:square;stroke-linejoin:miter;stroke-width:0.8;\"/>\n   </g>\n   <g id=\"patch_4\">\n    <path d=\"M 289.7 279 \nL 289.7 7.2 \n\" style=\"fill:none;stroke:#000000;stroke-linecap:square;stroke-linejoin:miter;stroke-width:0.8;\"/>\n   </g>\n   <g id=\"patch_5\">\n    <path d=\"M 10.7 279 \nL 289.7 279 \n\" style=\"fill:none;stroke:#000000;stroke-linecap:square;stroke-linejoin:miter;stroke-width:0.8;\"/>\n   </g>\n   <g id=\"patch_6\">\n    <path d=\"M 10.7 7.2 \nL 289.7 7.2 \n\" style=\"fill:none;stroke:#000000;stroke-linecap:square;stroke-linejoin:miter;stroke-width:0.8;\"/>\n   </g>\n  </g>\n </g>\n <defs>\n  <clipPath id=\"pd980f4d262\">\n   <rect height=\"271.8\" width=\"279\" x=\"10.7\" y=\"7.2\"/>\n  </clipPath>\n </defs>\n</svg>\n",
      "image/png": "[encoded data removed]"
     },
     "metadata": {}
    }
   ],
   "source": [
    "viz_alg_1d_2(w)"
   ]
  },
  {
   "cell_type": "code",
   "execution_count": null,
   "metadata": {},
   "outputs": [],
   "source": []
  }
 ]
}