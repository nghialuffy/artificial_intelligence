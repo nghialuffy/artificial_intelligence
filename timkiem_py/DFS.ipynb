{
 "metadata": {
  "language_info": {
   "codemirror_mode": {
    "name": "ipython",
    "version": 3
   },
   "file_extension": ".py",
   "mimetype": "text/x-python",
   "name": "python",
   "nbconvert_exporter": "python",
   "pygments_lexer": "ipython3",
   "version": "3.6.9-final"
  },
  "orig_nbformat": 2,
  "kernelspec": {
   "name": "python3",
   "display_name": "Python 3"
  }
 },
 "nbformat": 4,
 "nbformat_minor": 2,
 "cells": [
  {
   "cell_type": "code",
   "execution_count": 2,
   "metadata": {},
   "outputs": [],
   "source": [
    "import networkx as nx\n",
    "import matplotlib.pyplot as plt"
   ]
  },
  {
   "cell_type": "code",
   "execution_count": 3,
   "metadata": {},
   "outputs": [
    {
     "output_type": "stream",
     "name": "stdout",
     "text": [
      "frontier:  ['S']\nfrontier:  ['A', 'B', 'C']\nfrontier:  ['A', 'B', 'E']\nfrontier:  ['A', 'B', 'H', 'F']\nfrontier:  ['A', 'B', 'H', 'D', 'G']\nTrue\n"
     ]
    }
   ],
   "source": [
    "def Depth_First_Search(initialState, goalTest):\n",
    "    frontier = []\n",
    "    frontier.append(initialState)\n",
    "    explored = []\n",
    "    while len(frontier) > 0:\n",
    "        print(\"frontier: \", frontier)\n",
    "        state = frontier.pop(len(frontier)-1)  # pop(0) [1,2,3,4,5]\n",
    "        explored.append(state)\n",
    "        if goalTest == state:\n",
    "            return True\n",
    "        for neighbor in G.neighbors(state):\n",
    "            if neighbor not in list(set(frontier + explored)):\n",
    "                frontier.append(neighbor)\n",
    "    return False\n",
    "if __name__ == \"__main__\":\n",
    "    G = nx.Graph()\n",
    "    G.add_nodes_from([\"S\", \"A\", \"B\", \"C\", \"D\", \"E\", \"F\", \"G\", \"H\"])\n",
    "    G.add_weighted_edges_from(\n",
    "        [\n",
    "            (\"S\", \"A\", 1),\n",
    "            (\"S\", \"B\", 1),\n",
    "            (\"S\", \"C\", 1),\n",
    "            (\"A\", \"D\", 1),\n",
    "            (\"B\", \"G\", 1),\n",
    "            (\"B\", \"E\", 1),\n",
    "            (\"C\", \"E\", 1),\n",
    "            (\"D\", \"F\", 1),\n",
    "            (\"E\", \"H\", 1),\n",
    "            (\"F\", \"E\", 1),\n",
    "            (\"H\", \"G\", 1),\n",
    "            (\"F\", \"G\", 1),\n",
    "        ]\n",
    "    )\n",
    "    result = Depth_First_Search(\"S\", \"G\")\n",
    "    print(result)"
   ]
  },
  {
   "cell_type": "code",
   "execution_count": null,
   "metadata": {},
   "outputs": [],
   "source": []
  }
 ]
}