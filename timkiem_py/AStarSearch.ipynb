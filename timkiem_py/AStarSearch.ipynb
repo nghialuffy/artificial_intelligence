{
 "metadata": {
  "language_info": {
   "codemirror_mode": {
    "name": "ipython",
    "version": 3
   },
   "file_extension": ".py",
   "mimetype": "text/x-python",
   "name": "python",
   "nbconvert_exporter": "python",
   "pygments_lexer": "ipython3",
   "version": "3.6.9-final"
  },
  "orig_nbformat": 2,
  "kernelspec": {
   "name": "python3",
   "display_name": "Python 3.6.9 64-bit",
   "metadata": {
    "interpreter": {
     "hash": "31f2aee4e71d21fbe5cf8b01ff0e069b9275f58929596ceb00d14d90e3e16cd6"
    }
   }
  }
 },
 "nbformat": 4,
 "nbformat_minor": 2,
 "cells": [
  {
   "cell_type": "code",
   "execution_count": 2,
   "metadata": {},
   "outputs": [
    {
     "output_type": "stream",
     "name": "stdout",
     "text": [
      "['A (6)']\n['B (5)', 'C (5)', 'D (8)']\n['C (5)', 'F (7)', 'E (10)', 'D (8)']\n['H (6)', 'F (7)', 'E (10)', 'G (13)', 'D (8)']\n['N (6)', 'F (7)', 'E (10)', 'G (13)', 'D (8)', 'O (12)']\n['F (7)', 'D (8)', 'E (10)', 'G (13)', 'O (12)']\n['L (7)', 'K (10)', 'D (8)', 'G (13)', 'O (12)', 'E (10)', 'M (14)']\n"
     ]
    }
   ],
   "source": [
    "from netrc import netrc\n",
    "from graph2 import Node\n",
    "from graph2 import Graph\n",
    "import heapq\n",
    "import pandas as pd\n",
    "\n",
    "\n",
    "def update_cost(g, current_node, prev_node):\n",
    "    if g.get_edge(prev_node, current_node) is not None:\n",
    "        if current_node.cost > prev_node.cost + g.get_edge(prev_node, current_node)[2]:\n",
    "            current_node.cost = prev_node.cost + g.get_edge(prev_node, current_node)[2]\n",
    "            current_node.path = prev_node.path + [current_node.get_label()]\n",
    "\n",
    "\n",
    "def find_by_label(array_of_node, node):\n",
    "    for idx, n in enumerate(array_of_node):\n",
    "        if n == node:\n",
    "            return idx\n",
    "        return -1\n",
    "\n",
    "\n",
    "def update_frontier(frontier, new_node):\n",
    "    index = find_by_label(frontier, new_node)\n",
    "    if index >= 0:\n",
    "        if frontier[index] > new_node:\n",
    "            frontier[index] = new_node\n",
    "\n",
    "\n",
    "def A_star_first_search(initial_state, goalTest):\n",
    "    frontier = list()\n",
    "    explored = list()\n",
    "    # Sử dụng CTDL Heap\n",
    "    heapq.heapify(frontier)\n",
    "    heapq.heappush(frontier, initial_state)\n",
    "    while len(frontier) > 0:\n",
    "        print(list(map(lambda x: (x.get_label() + \" (\" + str(x.f) + \")\"), frontier)))\n",
    "        # remove smallest element in frontier and return smallest element\n",
    "        state = heapq.heappop(frontier)\n",
    "        explored.append(state)\n",
    "        if state == goalTest:\n",
    "            return True\n",
    "        for neighbor in state.neighbors():\n",
    "            update_cost(graph, neighbor, state)\n",
    "            if neighbor.get_label() not in list(set([node.get_label() for node in frontier + explored])):\n",
    "                neighbor.f = neighbor.cost + neighbor.goal_cost\n",
    "                heapq.heappush(frontier, neighbor)\n",
    "            elif find_by_label(frontier, neighbor) >= 0:\n",
    "                update_frontier(frontier, neighbor)\n",
    "                neighbor.f = neighbor.cost + neighbor.goal_cost\n",
    "    return False\n",
    "\n",
    "\n",
    "if __name__ == \"__main__\":\n",
    "    graph = Graph()\n",
    "    graph.add_node_from([\"A\", \"B\", \"C\", \"D\", \"E\", \"F\", \"G\", \"H\", \"I\", \"J\", \"K\", \"L\", \"M\", \"N\", \"O\"])\n",
    "    graph.add_edges_from(\n",
    "        [\n",
    "            (\"A\", \"B\", 2),\n",
    "            (\"A\", \"C\", 1),\n",
    "            (\"A\", \"D\", 3),\n",
    "            (\"B\", \"E\", 5),\n",
    "            (\"B\", \"F\", 4),\n",
    "            (\"C\", \"G\", 6),\n",
    "            (\"C\", \"H\", 3),\n",
    "            (\"D\", \"I\", 2),\n",
    "            (\"D\", \"J\", 4),\n",
    "            (\"F\", \"K\", 2),\n",
    "            (\"F\", \"L\", 1),\n",
    "            (\"F\", \"M\", 4),\n",
    "            (\"H\", \"N\", 2),\n",
    "            (\"H\", \"O\", 4),\n",
    "        ]\n",
    "    )\n",
    "    # initial setup\n",
    "    graph.nodes[0].goal_cost = 6  # goal_cost của node A = 6\n",
    "    graph.nodes[0].cost = 0  # Set cost node A = 0\n",
    "    graph.nodes[0].f = graph.nodes[0].cost + graph.nodes[0].goal_cost  # f cua Node A\n",
    "    graph.nodes[1].goal_cost = 3  # goal_cost của node B = 3\n",
    "    graph.nodes[2].goal_cost = 4  # goal_cost của node C = 4\n",
    "    graph.nodes[3].goal_cost = 5  # goal_cost của node D = 5\n",
    "    graph.nodes[4].goal_cost = 3  # goal_cost của node E = 3\n",
    "    graph.nodes[5].goal_cost = 1  # goal_cost của node F = 1\n",
    "    graph.nodes[6].goal_cost = 6  # goal_cost của node G = 6\n",
    "    graph.nodes[7].goal_cost = 2  # goal_cost của node H = 2\n",
    "    graph.nodes[8].goal_cost = 5  # goal_cost của node I = 5\n",
    "    graph.nodes[9].goal_cost = 4  # goal_cost của node J = 4\n",
    "    graph.nodes[10].goal_cost = 2  # goal_cost của node K = 2\n",
    "    graph.nodes[11].goal_cost = 0  # goal_cost của node L = 0\n",
    "    graph.nodes[12].goal_cost = 4  # goal_cost của node M = 4\n",
    "    graph.nodes[13].goal_cost = 0  # goal_cost của node N = 0\n",
    "    graph.nodes[14].goal_cost = 4  # goal_cost của node O = 4\n",
    "    graph.set_compare_mode(Node.A_STAR)\n",
    "    A_star_first_search(graph.nodes[0], graph.nodes[11])"
   ]
  },
  {
   "cell_type": "code",
   "execution_count": null,
   "metadata": {},
   "outputs": [],
   "source": []
  }
 ]
}